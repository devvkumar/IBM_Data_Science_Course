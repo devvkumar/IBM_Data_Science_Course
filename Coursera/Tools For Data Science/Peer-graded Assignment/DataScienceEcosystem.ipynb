{
 "cells": [
  {
   "cell_type": "markdown",
   "id": "e954ad84",
   "metadata": {},
   "source": [
    "# Peer-graded Assignment: Submit Your Work and Grade Your Peers"
   ]
  },
  {
   "cell_type": "markdown",
   "id": "83537cd6",
   "metadata": {},
   "source": [
    "## Assignment Topic:\n",
    "\n",
    "You will be provided with an empty Jupyterlite notebook which you will launch in the course, to complete this assignment. You will need to include a combination of markdown and code cells. You will likely need to use the Markdown cheat sheet to help you determine the appropriate syntax for your markdown.\n",
    "\n",
    "### There are a total of 25 points possible for this final project.   \n",
    "\n",
    "Your grade will be based on the following Exercises:\n",
    "\n",
    "### Exercise 2 - Create a markdown cell with the title of the notebook. (1 pt)\n",
    "\n",
    "### Exercise 3 - Create a markdown cell for an introduction. (1 pt)\n",
    "\n",
    "### Exercise 4 - Create a markdown cell to list data science languages. (3 pts)\n",
    "\n",
    "### Exercise 5 - Create a markdown cell to list data science libraries. (3 pts)\n",
    "\n",
    "### Exercise 6 - Create a markdown cell with a table of Data Science tools. (3 pts)\n",
    "\n",
    "### Exercise 7 - Create a markdown cell introducing arithmetic expression examples. (1 pt)\n",
    "\n",
    "### Exercise 8 - Create a code cell to multiply and add numbers. (2 pts)\n",
    "\n",
    "### Exercise 9 - Create a code cell to convert minutes to hours. (2 pts)\n",
    "\n",
    "### Exercise 10 -Insert a markdown cell to list Objectives. (3 pts)\n",
    "\n",
    "### Exercise 11 - Create a markdown cell to indicate the Author’s name. (2 pts)\n",
    "\n",
    "### Exercise 12 - Share your notebook through GitHub (3 pts)\n",
    "\n",
    "### Exercise 13 - Take a screenshot of the first page of the notebook. (1 pt)\n"
   ]
  },
  {
   "cell_type": "markdown",
   "id": "9e448e28",
   "metadata": {},
   "source": [
    "## Objective\n",
    "In this final assignment, you will:\n",
    "\n",
    "Create a Jupyter Notebook\n",
    "\n",
    "Insert code and markdown cells\n",
    "\n",
    "Share your notebook through GitHub"
   ]
  },
  {
   "cell_type": "markdown",
   "id": "58311918",
   "metadata": {},
   "source": [
    "### Exercise 1: Create a Jupyter Notebook\n",
    "\n",
    "Create a new Jupyter notebook called DataScienceEcosystem.ipynb"
   ]
  },
  {
   "cell_type": "markdown",
   "id": "27cf7118",
   "metadata": {},
   "source": [
    "### Exercise 2: Create markdown cell with title of the notebook\n",
    "\n",
    "Create a markdown cell with the title Data Science Tools and Ecosystem using H1 style heading."
   ]
  },
  {
   "cell_type": "markdown",
   "id": "b5e80421",
   "metadata": {},
   "source": [
    "# Data Science Tools and Ecosystem"
   ]
  },
  {
   "cell_type": "markdown",
   "id": "8cd477ad",
   "metadata": {},
   "source": [
    "### Exercise 3 - Create a markdown cell for an introduction\n",
    "\n",
    "Write an introductory sentence about the notebook such as the follows:\n",
    "\n",
    "In this notebook, Data Science Tools and Ecosystem are summarized."
   ]
  },
  {
   "cell_type": "markdown",
   "id": "ece00e14",
   "metadata": {},
   "source": [
    "In this notebook, Data Science Tools and Ecosystem are summarized."
   ]
  },
  {
   "cell_type": "markdown",
   "id": "0f74eeac",
   "metadata": {},
   "source": [
    "### Exercise 4 - Create a markdown cell to list data science languages\n",
    "\n",
    "Start the cell with an overview line such as:\n",
    "\n",
    "Some of the popular languages that Data Scientists use are:\n",
    "Then create an ordered list (i.e. numbered) listing 3 (or more) commonly used languages for data science."
   ]
  },
  {
   "cell_type": "markdown",
   "id": "528f1049",
   "metadata": {},
   "source": [
    "Some of the popular languages that Data Scientists use are: \n",
    "- Python\n",
    "- SQL\n",
    "- R\n",
    "- Java"
   ]
  },
  {
   "cell_type": "markdown",
   "id": "6543f7e0",
   "metadata": {},
   "source": [
    "### Exercise 6 - Create a markdown cell with a table of Data Science tools\n",
    "\n",
    "Create a single column table in this cell with the first row containing the header Data Science Tools. The subsequent three rows in the table should indicate three development environment open source tools used in data science."
   ]
  },
  {
   "cell_type": "markdown",
   "id": "604c324a",
   "metadata": {},
   "source": [
    "| Data Science Tools |\n",
    "| :- |\n",
    "| RStudio |\n",
    "| Apache Spark |\n",
    "| TensorFlow |\n",
    "| Apache Hadoop |\n",
    "| RapidMiner |"
   ]
  },
  {
   "cell_type": "markdown",
   "id": "f7cba0b2",
   "metadata": {},
   "source": [
    "### Exercise 7 - Create a markdown cell introducing arithmetic expression examples\n",
    "\n",
    "Add a line in this cell with H3 style heading with text like:\n",
    "\n",
    "Below are a few examples of evaluating arithmetic expressions in Python."
   ]
  },
  {
   "cell_type": "markdown",
   "id": "90ac08be",
   "metadata": {},
   "source": [
    "### Exercise 8 - Below are a few examples of evaluating arithmetic expressions in Python."
   ]
  },
  {
   "cell_type": "markdown",
   "id": "dc36faca",
   "metadata": {},
   "source": [
    "Exercise 8 - Create a code cell to multiply and add numbers\n",
    "\n",
    "In this code cell evaluate the expression (3*4)+5.\n",
    "Insert a comment line before the expression to explain the operation e.g.  This a simple arithmetic expression to mutiply then add integers.\n",
    "Then execute the cell to ensure the expression returns the expected output of 17."
   ]
  },
  {
   "cell_type": "code",
   "execution_count": 5,
   "id": "c91141d1",
   "metadata": {},
   "outputs": [
    {
     "name": "stdout",
     "output_type": "stream",
     "text": [
      "This a simple arithmetic expression to mutiply then add integers :  17\n"
     ]
    }
   ],
   "source": [
    "print(\"This a simple arithmetic expression to mutiply then add integers : \", (3*4)+5)"
   ]
  },
  {
   "cell_type": "markdown",
   "id": "6f511a95",
   "metadata": {},
   "source": [
    "### Exercise 9 - Create a code cell to convert minutes to hours\n",
    "\n",
    "In this code cell write an expression that converts 200 minutes into hours.\n",
    "Insert a comment line before the expression to explain the operation e.g.  This will convert 200 minutes to hours by diving by 60.\n",
    "Run the cell to evaluate the expression."
   ]
  },
  {
   "cell_type": "code",
   "execution_count": 6,
   "id": "532fbfcb",
   "metadata": {},
   "outputs": [
    {
     "name": "stdout",
     "output_type": "stream",
     "text": [
      "3.3333333333333335\n"
     ]
    }
   ],
   "source": [
    "print(200/60)"
   ]
  },
  {
   "cell_type": "markdown",
   "id": "0bb1554a",
   "metadata": {},
   "source": [
    "### Exercise 10 - Insert a markdown cell to list Objectives\n",
    "\n",
    "Below the introduction cell created in Exercise 3, insert a new markdown cell to list the objectives that this notebook covered (i.e. some of the key takeaways from the course). In this new cell start with an introductory line titled: Objectives: in bold font. Then using an unordered list (bullets) indicate 3 to 5 items covered in this notebook, such as List popular languages for Data Science."
   ]
  },
  {
   "cell_type": "markdown",
   "id": "5896a924",
   "metadata": {},
   "source": [
    "**Objective**\n",
    "\n",
    "- Libraries\n",
    "- APIs\n",
    "- Data\n",
    "- Sets\n",
    "- Models\n",
    "\n",
    "List Popular Languages for Data Science\n",
    "* python\n",
    "* R\n",
    "* SQL \n",
    "* Scala\n",
    "* MATLAB\n",
    "* SAS"
   ]
  },
  {
   "cell_type": "markdown",
   "id": "ccd4b944",
   "metadata": {},
   "source": [
    "### Exercise 11 - Create a markdown cell to indicate the Author's name\n",
    "\n",
    "In this markdown cell markdown cell include the following text Author in H2 style heading. Include your name as regular text below the word Author."
   ]
  },
  {
   "cell_type": "markdown",
   "id": "8dafd63f",
   "metadata": {},
   "source": [
    "## Author\n",
    "\n",
    "Dev Kumar"
   ]
  }
 ],
 "metadata": {
  "kernelspec": {
   "display_name": "Python 3 (ipykernel)",
   "language": "python",
   "name": "python3"
  },
  "language_info": {
   "codemirror_mode": {
    "name": "ipython",
    "version": 3
   },
   "file_extension": ".py",
   "mimetype": "text/x-python",
   "name": "python",
   "nbconvert_exporter": "python",
   "pygments_lexer": "ipython3",
   "version": "3.10.9"
  }
 },
 "nbformat": 4,
 "nbformat_minor": 5
}
